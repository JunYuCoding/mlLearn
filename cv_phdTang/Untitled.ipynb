{
 "cells": [
  {
   "cell_type": "code",
   "execution_count": 3,
   "metadata": {},
   "outputs": [],
   "source": [
    "import cv2\n",
    "import matplotlib.pyplot as plt\n",
    "import numpy as np\n",
    "%matplotlib inline"
   ]
  },
  {
   "cell_type": "code",
   "execution_count": 9,
   "metadata": {},
   "outputs": [],
   "source": [
    "img = cv2.imread('picture/01_cat.jpg')"
   ]
  },
  {
   "cell_type": "code",
   "execution_count": 10,
   "metadata": {},
   "outputs": [
    {
     "name": "stdout",
     "output_type": "stream",
     "text": [
      "[[[142 151 160]\n",
      "  [146 155 164]\n",
      "  [151 160 169]\n",
      "  ...\n",
      "  [156 172 185]\n",
      "  [155 171 184]\n",
      "  [154 170 183]]\n",
      "\n",
      " [[107 118 126]\n",
      "  [112 123 131]\n",
      "  [117 128 136]\n",
      "  ...\n",
      "  [155 171 184]\n",
      "  [154 170 183]\n",
      "  [153 169 182]]\n",
      "\n",
      " [[108 119 127]\n",
      "  [112 123 131]\n",
      "  [118 129 137]\n",
      "  ...\n",
      "  [154 170 183]\n",
      "  [153 169 182]\n",
      "  [152 168 181]]\n",
      "\n",
      " ...\n",
      "\n",
      " [[162 186 198]\n",
      "  [157 181 193]\n",
      "  [142 166 178]\n",
      "  ...\n",
      "  [181 204 206]\n",
      "  [170 193 195]\n",
      "  [149 172 174]]\n",
      "\n",
      " [[140 164 176]\n",
      "  [147 171 183]\n",
      "  [139 163 175]\n",
      "  ...\n",
      "  [167 187 188]\n",
      "  [123 143 144]\n",
      "  [104 124 125]]\n",
      "\n",
      " [[154 178 190]\n",
      "  [154 178 190]\n",
      "  [121 145 157]\n",
      "  ...\n",
      "  [185 198 200]\n",
      "  [130 143 145]\n",
      "  [129 142 144]]]\n"
     ]
    }
   ],
   "source": [
    "print(img)"
   ]
  },
  {
   "cell_type": "code",
   "execution_count": 14,
   "metadata": {},
   "outputs": [],
   "source": [
    "# 等待时间，毫秒级，0表示任意键终止，5000ms表示5s\n",
    "cv2.imshow('image_cat',img)  \n",
    "cv2.waitKey(0)  \n",
    "\n",
    "# 销毁图像窗口\n",
    "cv2.destroyAllWindows()"
   ]
  },
  {
   "cell_type": "code",
   "execution_count": 17,
   "metadata": {},
   "outputs": [],
   "source": [
    "def cv_show(name,img):\n",
    "    cv2.imshow(name,img)\n",
    "    cv2.waitKey(0)\n",
    "    cv2.destroyAllWindows()\n",
    "cv_show('mao',img)"
   ]
  },
  {
   "cell_type": "code",
   "execution_count": 18,
   "metadata": {},
   "outputs": [
    {
     "data": {
      "text/plain": [
       "(414, 500, 3)"
      ]
     },
     "execution_count": 18,
     "metadata": {},
     "output_type": "execute_result"
    }
   ],
   "source": [
    "img.shape"
   ]
  },
  {
   "cell_type": "code",
   "execution_count": 25,
   "metadata": {},
   "outputs": [],
   "source": [
    "new_img = img[0:500,0:300]# 读取部分\n",
    "# cv_show('newmao',new_img)"
   ]
  },
  {
   "cell_type": "code",
   "execution_count": null,
   "metadata": {},
   "outputs": [],
   "source": [
    "# 读取视频\n"
   ]
  }
 ],
 "metadata": {
  "kernelspec": {
   "display_name": "Python 3",
   "language": "python",
   "name": "python3"
  },
  "language_info": {
   "codemirror_mode": {
    "name": "ipython",
    "version": 3
   },
   "file_extension": ".py",
   "mimetype": "text/x-python",
   "name": "python",
   "nbconvert_exporter": "python",
   "pygments_lexer": "ipython3",
   "version": "3.6.4"
  }
 },
 "nbformat": 4,
 "nbformat_minor": 2
}
